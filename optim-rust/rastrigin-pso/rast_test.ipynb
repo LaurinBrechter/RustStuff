{
 "cells": [
  {
   "cell_type": "code",
   "execution_count": 6,
   "metadata": {},
   "outputs": [
    {
     "name": "stdout",
     "output_type": "stream",
     "text": [
      "0.0\n"
     ]
    }
   ],
   "source": [
    "import math\n",
    "from typing import List\n",
    "\n",
    "def rastrigin(x: List[float]) -> float:\n",
    "    A = 10.0\n",
    "    n = len(x)\n",
    "    l = [xi**2 - A * math.cos(2 * math.pi * xi) for xi in x]\n",
    "    return n * A + sum(l)\n",
    "\n",
    "# Example usage\n",
    "x = [0]*10000000\n",
    "result = rastrigin(x)\n",
    "print(result)"
   ]
  },
  {
   "cell_type": "code",
   "execution_count": null,
   "metadata": {},
   "outputs": [],
   "source": []
  }
 ],
 "metadata": {
  "kernelspec": {
   "display_name": "Python 3",
   "language": "python",
   "name": "python3"
  },
  "language_info": {
   "codemirror_mode": {
    "name": "ipython",
    "version": 3
   },
   "file_extension": ".py",
   "mimetype": "text/x-python",
   "name": "python",
   "nbconvert_exporter": "python",
   "pygments_lexer": "ipython3",
   "version": "3.11.4"
  }
 },
 "nbformat": 4,
 "nbformat_minor": 2
}
